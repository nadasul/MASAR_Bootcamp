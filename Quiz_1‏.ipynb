{
  "nbformat": 4,
  "nbformat_minor": 0,
  "metadata": {
    "colab": {
      "provenance": [],
      "authorship_tag": "ABX9TyNtuSc1rDPBwms4IQa33rCF",
      "include_colab_link": true
    },
    "kernelspec": {
      "name": "python3",
      "display_name": "Python 3"
    },
    "language_info": {
      "name": "python"
    }
  },
  "cells": [
    {
      "cell_type": "markdown",
      "metadata": {
        "id": "view-in-github",
        "colab_type": "text"
      },
      "source": [
        "<a href=\"https://colab.research.google.com/github/nadasul/MASAR_Bootcamp/blob/main/Quiz_1%E2%80%8F.ipynb\" target=\"_parent\"><img src=\"https://colab.research.google.com/assets/colab-badge.svg\" alt=\"Open In Colab\"/></a>"
      ]
    },
    {
      "cell_type": "code",
      "source": [
        "def two_sum(nums, target):\n",
        "    # Create a dictionary to store the difference between the target sum and each number\n",
        "    num_dict = {}\n",
        "\n",
        "    # Iterate through the array\n",
        "    for i, num in enumerate(nums):\n",
        "        # Calculate the difference needed to reach the target sum\n",
        "        difference = target - num\n",
        "\n",
        "        # If the difference is already in the dictionary, it means we found the pair\n",
        "        if difference in num_dict:\n",
        "            # Return the indices of the current number and the number that makes up the target sum\n",
        "            return [num_dict[difference], i]\n",
        "\n",
        "        # Otherwise, add the current number and its index to the dictionary\n",
        "        num_dict[num] = i\n",
        "\n",
        "    # If no solution is found, return None or an empty list\n",
        "    return None\n",
        "\n",
        "# Example usage:\n",
        "nums = [2, 5, 11, 15,6,7,9,10]\n",
        "target = 9\n",
        "print(two_sum(nums, target))  # Output: [0, 1] (indices of numbers 2 and 7 which add up to 9)"
      ],
      "metadata": {
        "colab": {
          "base_uri": "https://localhost:8080/"
        },
        "id": "CLb015xn3Bz1",
        "outputId": "1f4bd43d-3f2a-4732-dad1-266c984eff50"
      },
      "execution_count": 1,
      "outputs": [
        {
          "output_type": "stream",
          "name": "stdout",
          "text": [
            "[0, 5]\n"
          ]
        }
      ]
    },
    {
      "cell_type": "code",
      "execution_count": null,
      "metadata": {
        "colab": {
          "base_uri": "https://localhost:8080/"
        },
        "id": "Re15ZCm95UMf",
        "outputId": "88592b49-c803-409a-e001-0732ccef3a23"
      },
      "outputs": [
        {
          "output_type": "stream",
          "name": "stdout",
          "text": [
            "العددين التي تؤدي إلى المجموع 7 هما: 3 و 4\n"
          ]
        }
      ],
      "source": [
        "def find_pair_with_sum(arr, target_sum):\n",
        "    seen = set()  # حافظة لتخزين الأرقام التي تمت مراجعتها\n",
        "    for num in arr:\n",
        "        complement = target_sum - num  # العدد الناقص ليكون المجموع\n",
        "        if complement in seen:  # إذا وجدنا العدد الناقص في الحافظة فهذا يعني أننا وجدنا الزوج\n",
        "            return complement, num\n",
        "        seen.add(num)  # إضافة العدد الحالي إلى الحافظة لاستخدامه لاحقًا\n",
        "    return None  # في حال عدم وجود زوج من الأرقام التي تؤدي إلى المجموع المطلوب\n",
        "\n",
        "# تجربة الحل\n",
        "arr = [1, 2, 3, 4, 5]\n",
        "target_sum = 7\n",
        "pair = find_pair_with_sum(arr, target_sum)\n",
        "if pair:\n",
        "    print(f\"العددين التي تؤدي إلى المجموع {target_sum} هما: {pair[0]} و {pair[1]}\")\n",
        "else:\n",
        "    print(\"لا يوجد زوج من الأرقام يؤدي إلى المجموع المطلوب\")\n"
      ]
    }
  ]
}