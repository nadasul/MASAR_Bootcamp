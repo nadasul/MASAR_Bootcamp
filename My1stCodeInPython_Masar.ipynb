{
  "nbformat": 4,
  "nbformat_minor": 0,
  "metadata": {
    "colab": {
      "provenance": [],
      "authorship_tag": "ABX9TyNS+XIbG9xKcZ3cL1XSJvY2",
      "include_colab_link": true
    },
    "kernelspec": {
      "name": "python3",
      "display_name": "Python 3"
    },
    "language_info": {
      "name": "python"
    }
  },
  "cells": [
    {
      "cell_type": "markdown",
      "metadata": {
        "id": "view-in-github",
        "colab_type": "text"
      },
      "source": [
        "<a href=\"https://colab.research.google.com/github/nadasul/MASAR_Bootcamp/blob/main/My1stCodeInPython_Masar.ipynb\" target=\"_parent\"><img src=\"https://colab.research.google.com/assets/colab-badge.svg\" alt=\"Open In Colab\"/></a>"
      ]
    },
    {
      "cell_type": "code",
      "execution_count": 1,
      "metadata": {
        "colab": {
          "base_uri": "https://localhost:8080/"
        },
        "id": "85HRkB9IRkVp",
        "outputId": "a10bea9c-31ee-4773-cdc6-4d1b115f13ae"
      },
      "outputs": [
        {
          "output_type": "stream",
          "name": "stdout",
          "text": [
            "My name is Nada, and my age is 26\n"
          ]
        }
      ],
      "source": [
        "\n",
        "# الكود الاول مع منصة مسار البطلة\n",
        "name = 'Nada'\n",
        "age = 26\n",
        "\n",
        "print('My name is ' + name + ', and my age is ' + str(age))\n"
      ]
    }
  ]
}