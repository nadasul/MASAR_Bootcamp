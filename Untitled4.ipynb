{
  "nbformat": 4,
  "nbformat_minor": 0,
  "metadata": {
    "colab": {
      "provenance": [],
      "authorship_tag": "ABX9TyMHZM2coI+daodaEIULhsSs",
      "include_colab_link": true
    },
    "kernelspec": {
      "name": "python3",
      "display_name": "Python 3"
    },
    "language_info": {
      "name": "python"
    }
  },
  "cells": [
    {
      "cell_type": "markdown",
      "metadata": {
        "id": "view-in-github",
        "colab_type": "text"
      },
      "source": [
        "<a href=\"https://colab.research.google.com/github/nadasul/MASAR_Bootcamp/blob/main/Untitled4.ipynb\" target=\"_parent\"><img src=\"https://colab.research.google.com/assets/colab-badge.svg\" alt=\"Open In Colab\"/></a>"
      ]
    },
    {
      "cell_type": "code",
      "source": [
        "nums = [229, 792, 857, 579, 974, 346, 649, 454, 698, 347, 236, 297, 150, 698, 294, 663, 556, 712, 271, 283, 705, 347, 725, 716, 486, 642, 644, 728, 409, 208, 421, 799, 52, 796, 441, 374, 60, 948, 143, 698, 934, 561, 917, 678, 666, 476, 23, 743, 836, 655, 971, 372, 215, 567, 462, 127, 208, 683, 618, 96, 329, 92, 934, 992, 120, 944, 605, 78, 87, 216, 62, 919, 462, 597, 671, 493, 540, 451, 885, 375, 606, 90, 607, 443, 240, 708, 674, 111, 165, 858, 799, 39, 383, 602, 695, 689, 726, 344, 2, 335]\n",
        "\n",
        "for num in nums:\n",
        "    if num > 52:\n",
        "        print(num)"
      ],
      "metadata": {
        "colab": {
          "base_uri": "https://localhost:8080/"
        },
        "id": "oDqBVyyIBhcp",
        "outputId": "1f370e74-4fb3-4450-a091-c5639be8d8de"
      },
      "execution_count": 32,
      "outputs": [
        {
          "output_type": "stream",
          "name": "stdout",
          "text": [
            "229\n",
            "792\n",
            "857\n",
            "579\n",
            "974\n",
            "346\n",
            "649\n",
            "454\n",
            "698\n",
            "347\n",
            "236\n",
            "297\n",
            "150\n",
            "698\n",
            "294\n",
            "663\n",
            "556\n",
            "712\n",
            "271\n",
            "283\n",
            "705\n",
            "347\n",
            "725\n",
            "716\n",
            "486\n",
            "642\n",
            "644\n",
            "728\n",
            "409\n",
            "208\n",
            "421\n",
            "799\n",
            "796\n",
            "441\n",
            "374\n",
            "60\n",
            "948\n",
            "143\n",
            "698\n",
            "934\n",
            "561\n",
            "917\n",
            "678\n",
            "666\n",
            "476\n",
            "743\n",
            "836\n",
            "655\n",
            "971\n",
            "372\n",
            "215\n",
            "567\n",
            "462\n",
            "127\n",
            "208\n",
            "683\n",
            "618\n",
            "96\n",
            "329\n",
            "92\n",
            "934\n",
            "992\n",
            "120\n",
            "944\n",
            "605\n",
            "78\n",
            "87\n",
            "216\n",
            "62\n",
            "919\n",
            "462\n",
            "597\n",
            "671\n",
            "493\n",
            "540\n",
            "451\n",
            "885\n",
            "375\n",
            "606\n",
            "90\n",
            "607\n",
            "443\n",
            "240\n",
            "708\n",
            "674\n",
            "111\n",
            "165\n",
            "858\n",
            "799\n",
            "383\n",
            "602\n",
            "695\n",
            "689\n",
            "726\n",
            "344\n",
            "335\n"
          ]
        }
      ]
    },
    {
      "cell_type": "code",
      "source": [
        "nums = [229, 792, 857, 579, 974, 346, 649, 454, 698, 347, 236, 297, 150, 698, 294, 663, 556, 712, 271, 283, 705, 347, 725, 716, 486, 642, 644, 728, 409, 208, 421, 799, 52, 796, 441, 374, 60, 948, 143, 698, 934, 561, 917, 678, 666, 476, 23, 743, 836, 655, 971, 372, 215, 567, 462, 127, 208, 683, 618, 96, 329, 92, 934, 992, 120, 944, 605, 78, 87, 216, 62, 919, 462, 597, 671, 493, 540, 451, 885, 375, 606, 90, 607, 443, 240, 708, 674, 111, 165, 858, 799, 39, 383, 602, 695, 689, 726, 344, 2, 335]\n",
        "\n",
        "for num in nums:\n",
        "    if num % 2 == 0:\n",
        "     else\n",
        "      if num > 52:\n",
        "\n",
        "        print(num)\n"
      ],
      "metadata": {
        "colab": {
          "base_uri": "https://localhost:8080/",
          "height": 140
        },
        "id": "WvDf7Vu7DSce",
        "outputId": "59e806f1-5744-4649-a127-5544cf193c61"
      },
      "execution_count": 40,
      "outputs": [
        {
          "output_type": "error",
          "ename": "SyntaxError",
          "evalue": "invalid syntax (<ipython-input-40-50a401a840ab>, line 5)",
          "traceback": [
            "\u001b[0;36m  File \u001b[0;32m\"<ipython-input-40-50a401a840ab>\"\u001b[0;36m, line \u001b[0;32m5\u001b[0m\n\u001b[0;31m    else\u001b[0m\n\u001b[0m    ^\u001b[0m\n\u001b[0;31mSyntaxError\u001b[0m\u001b[0;31m:\u001b[0m invalid syntax\n"
          ]
        }
      ]
    }
  ]
}