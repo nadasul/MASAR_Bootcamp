{
  "nbformat": 4,
  "nbformat_minor": 0,
  "metadata": {
    "colab": {
      "provenance": [],
      "authorship_tag": "ABX9TyO4XOYJMq0eG4UGNJS9J2R0",
      "include_colab_link": true
    },
    "kernelspec": {
      "name": "python3",
      "display_name": "Python 3"
    },
    "language_info": {
      "name": "python"
    }
  },
  "cells": [
    {
      "cell_type": "markdown",
      "metadata": {
        "id": "view-in-github",
        "colab_type": "text"
      },
      "source": [
        "<a href=\"https://colab.research.google.com/github/nadasul/MASAR_Bootcamp/blob/main/Python_HW_1.ipynb\" target=\"_parent\"><img src=\"https://colab.research.google.com/assets/colab-badge.svg\" alt=\"Open In Colab\"/></a>"
      ]
    },
    {
      "cell_type": "code",
      "execution_count": 4,
      "metadata": {
        "colab": {
          "base_uri": "https://localhost:8080/"
        },
        "id": "BXlbkBBkptMO",
        "outputId": "345f6853-5fe8-442b-d55b-7fc7b1fe352f"
      },
      "outputs": [
        {
          "output_type": "stream",
          "name": "stdout",
          "text": [
            "Hello everyone, my name is Nada, and I am 26 years old. I am determined to achieve my goals, I will become the best data scientist\n"
          ]
        }
      ],
      "source": [
        "# Define the variable for the name\n",
        "name = 'Nada'\n",
        "\n",
        "# Define the variable for the age\n",
        "age = 26\n",
        "\n",
        "# Print statement\n",
        "print(f'Hello everyone, my name is {name}, and I am {age} years old. I am determined to achieve my goals, I will become the best data scientist')\n"
      ]
    }
  ]
}