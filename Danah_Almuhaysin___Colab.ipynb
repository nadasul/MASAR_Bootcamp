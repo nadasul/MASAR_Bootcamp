{
  "nbformat": 4,
  "nbformat_minor": 0,
  "metadata": {
    "colab": {
      "provenance": [],
      "include_colab_link": true
    },
    "kernelspec": {
      "name": "python3",
      "display_name": "Python 3"
    },
    "language_info": {
      "name": "python"
    }
  },
  "cells": [
    {
      "cell_type": "markdown",
      "metadata": {
        "id": "view-in-github",
        "colab_type": "text"
      },
      "source": [
        "<a href=\"https://colab.research.google.com/github/nadasul/MASAR_Bootcamp/blob/main/Danah_Almuhaysin___Colab.ipynb\" target=\"_parent\"><img src=\"https://colab.research.google.com/assets/colab-badge.svg\" alt=\"Open In Colab\"/></a>"
      ]
    },
    {
      "cell_type": "markdown",
      "source": [
        "#Data Type"
      ],
      "metadata": {
        "id": "CR5H_RTKzz3z"
      }
    },
    {
      "cell_type": "markdown",
      "source": [
        "نعم، في بايثون هناك العديد من أنواع البيانات المدمجة المهمة التي يمكن استخدامها لتمثيل المعلومات. إليك بعض الأنواع الأساسية:\n",
        "\n",
        "1. **int (الأعداد الصحيحة):** تُستخدم لتمثيل الأعداد الصحيحة، مثل 1 و -5 و 100.\n",
        "\n",
        "    ```python\n",
        "    x = 5\n",
        "    ```\n",
        "\n",
        "2. **float (الأعداد العائمة):** تُستخدم لتمثيل الأعداد العائمة (الكسور أو الأعداد العشرية).\n",
        "\n",
        "    ```python\n",
        "    y = 3.14\n",
        "    ```\n",
        "\n",
        "3. **str (النصوص):** تُستخدم لتمثيل النصوص، ويمكن تحديدها بين علامتي اقتباس (فردية أو مزدوجة).\n",
        "\n",
        "    ```python\n",
        "    name = \"John\"\n",
        "    ```\n",
        "\n",
        "4. **bool (القيم االمنطقية):** تُستخدم لتمثيل القيم المنطقية (True أو False).\n",
        "True تساوي 1 و القيمة False تساوي 0.\n",
        "\n",
        "    ```python\n",
        "    is_student = True\n",
        "    ```\n",
        "\n",
        "5. **list (القوائم):** تُستخدم لتخزين مجموعة من القيم، ويمكن أن تحتوي على أنواع مختلفة.\n",
        "\n",
        "    ```python\n",
        "    numbers = [1, 2, 3, 4, 5]\n",
        "    ```\n",
        "\n",
        "6. **tuple (التراص):** شبيهة بالقوائم ولكنها لا يمكن تعديلها بعد إنشائها.\n",
        "\n",
        "    ```python\n",
        "    coordinates = (10, 20)\n",
        "    ```\n",
        "\n",
        "7. **dict (القواميس):** تُستخدم لتخزين البيانات في صورة أزواج \"مفتاح-قيمة\".\n",
        "```python\n",
        "    person = {\"name\": \"Alice\", \"age\": 25, \"city\": \"New York\"}\n",
        "    ```"
      ],
      "metadata": {
        "id": "5pEVPcKqtu7H"
      }
    },
    {
      "cell_type": "code",
      "source": [
        "# type() function is used to determine the type of data type.\n",
        "a = 5\n",
        "print(type(a))"
      ],
      "metadata": {
        "id": "HAwpAtFECSJp",
        "colab": {
          "base_uri": "https://localhost:8080/"
        },
        "outputId": "074d867c-0b35-4b44-ddb3-aa87ea72d7fa"
      },
      "execution_count": null,
      "outputs": [
        {
          "output_type": "stream",
          "name": "stdout",
          "text": [
            "<class 'int'>\n"
          ]
        }
      ]
    },
    {
      "cell_type": "code",
      "source": [
        "b = 3.41\n",
        "print(type(b))"
      ],
      "metadata": {
        "id": "0Y77vDWLC14H",
        "colab": {
          "base_uri": "https://localhost:8080/"
        },
        "outputId": "05ab0fea-2c0f-4d4a-eb2a-03812e6db46c"
      },
      "execution_count": null,
      "outputs": [
        {
          "output_type": "stream",
          "name": "stdout",
          "text": [
            "<class 'float'>\n"
          ]
        }
      ]
    },
    {
      "cell_type": "code",
      "source": [
        "print(type(False))"
      ],
      "metadata": {
        "id": "eDVdbFASC5CS",
        "colab": {
          "base_uri": "https://localhost:8080/"
        },
        "outputId": "641d3d91-c1f1-4993-b9ad-5cda7d9b2f48"
      },
      "execution_count": null,
      "outputs": [
        {
          "output_type": "stream",
          "name": "stdout",
          "text": [
            "<class 'bool'>\n"
          ]
        }
      ]
    },
    {
      "cell_type": "code",
      "source": [
        "print(type(True))"
      ],
      "metadata": {
        "colab": {
          "base_uri": "https://localhost:8080/"
        },
        "id": "BR-aHqZeDTKa",
        "outputId": "faa4f416-4732-4ea5-b4c9-b73aa9c0663a"
      },
      "execution_count": null,
      "outputs": [
        {
          "output_type": "stream",
          "name": "stdout",
          "text": [
            "<class 'bool'>\n"
          ]
        }
      ]
    },
    {
      "cell_type": "code",
      "source": [
        "A = []                                 # هنا قمنا بتعريف مصفوفة فارغة\n",
        "B = [10, 20, 30, 40, 50]               # هنا قمنا بتعريف مصفوفة تحتوي على أعداد صحيحة فقط\n",
        "C = ['Mhamad', 'Samer', 'Abdullah']    # هنا قمنا بتعريف مصفوفة تحتوي على نصوص فقط\n",
        "D = [1, 'two', 'three', 4]\n"
      ],
      "metadata": {
        "id": "wTBytu4U4I9n"
      },
      "execution_count": null,
      "outputs": []
    },
    {
      "cell_type": "code",
      "source": [
        "A = ()                                 # هنا قمنا بتعريف مصفوفة فارغة\n",
        "B = (10, 20, 30, 40, 50)               # هنا قمنا بتعريف مصفوفة تحتوي على أعداد صحيحة فقط\n",
        "C = ('Mhamad', 'Samer', 'Abdullah')    # هنا قمنا بتعريف مصفوفة تحتوي على نصوص فقط\n",
        "D = (1, 'two', 'three', 4)             # هنا قمنا بتعريف مصفوفة تحتوي على أعداد صحيحة و نصوص"
      ],
      "metadata": {
        "id": "xmWnMrZU4Q8d"
      },
      "execution_count": null,
      "outputs": []
    },
    {
      "cell_type": "code",
      "source": [
        "# يتألف من 5 عناصر dictionary هنا قمنا بتعريف\n",
        "dictionary = {\n",
        "    1: 'One',\n",
        "    2: 'Tow',\n",
        "    3: 'Three',\n",
        "    4: 'Four',\n",
        "    5: 'Five'\n",
        "}\n",
        "\n",
        "dictionary = {1:'One', 2: 'Tow', 3: 'Three',4: 'Four',5: 'Five'}\n",
        "# هنا قمنا بعرض قيمة العنصر الذي يحمل المفتاح رقم 3\n",
        "print(dictionary[3])\n",
        "print(dictionary[2])"
      ],
      "metadata": {
        "id": "c0UJTB6RDXe-",
        "colab": {
          "base_uri": "https://localhost:8080/"
        },
        "outputId": "f98def68-7cb9-44ec-bbe8-12e933cfc8de"
      },
      "execution_count": null,
      "outputs": [
        {
          "output_type": "stream",
          "name": "stdout",
          "text": [
            "Three\n",
            "Tow\n"
          ]
        }
      ]
    },
    {
      "cell_type": "code",
      "source": [
        "#معسكر_مسار\n",
        "name = 'Da'\n",
        "message = '''This string that will span across multiple lines. No need to use newline characters for the next lines.\n",
        "The end of lines within this string is counted as a newline when printed.'''\n",
        "# هنا قمنا بعرض قيم المتغيرات النصية بأسلوب مرتب\n",
        "print('Name: '+ name)\n",
        "print('Message: ', message)"
      ],
      "metadata": {
        "colab": {
          "base_uri": "https://localhost:8080/"
        },
        "id": "Imd0jZRCD_4u",
        "outputId": "b9987843-dd4f-4947-af97-7c2dc2a0ece8"
      },
      "execution_count": null,
      "outputs": [
        {
          "output_type": "stream",
          "name": "stdout",
          "text": [
            "Name: Da\n",
            "Message:  This string that will span across multiple lines. No need to use newline characters for the next lines.\n",
            "The end of lines within this string is counted as a newline when printed.\n"
          ]
        }
      ]
    },
    {
      "cell_type": "markdown",
      "source": [
        "#if Statment\n"
      ],
      "metadata": {
        "id": "0O0gl-ortJmq"
      }
    },
    {
      "cell_type": "markdown",
      "source": [
        "في لغة البرمجة بايثون، تُستخدم الجمل الشرطية لتنفيذ قطعة معينة من الكود إذا تحققت شرط معين. هناك نوعان رئيسيان من الجمل الشرطية في بايثون:\n",
        "\n",
        "جملة if وجملة else.\n",
        "\n",
        "الجملة `if`:\n",
        "\n",
        "```\n",
        "age = 55\n",
        "\n",
        "if age >= 18:\n",
        "\n",
        "print(\"أنت بالغ.\")\n",
        "```\n",
        "\n",
        "\n",
        "الجملة `else`:\n",
        "تُستخدم لتحديد كتلة من الكود التي يجب تنفيذها إذا لم يكن الشرط الاول المحدد صحيحا\n",
        "\n",
        "\n",
        ". صيغة الجملة `else`\n",
        "\n",
        "تأتي بعد الجملة `if`\n",
        "وتكون كالتالي:\n",
        "\n",
        "\n",
        "```\n",
        "age = 15\n",
        "\n",
        "if\n",
        "age > 18:\n",
        "    print(\"أنت بالغ.\")\n",
        "else:\n",
        "    print(\"أنت قاصر.\")\n",
        "```\n",
        "\n",
        "يمكن أيضًا استخدام جمل\n",
        "`elif`\n",
        "\n",
        "elif (اختصار لـ else if) لفحص شروط إضافية في حالة عدم تحقق الشرط الأولي.\n",
        "\n",
        "```\n",
        "```\n",
        "\n",
        "\n"
      ],
      "metadata": {
        "id": "1ai0Rvscv4A4"
      }
    },
    {
      "cell_type": "code",
      "source": [
        "age = 17\n",
        "\n",
        "if age >= 18:\n",
        "  print(\"أنت بالغ.\")"
      ],
      "metadata": {
        "id": "hYzyVpWjt-Yc"
      },
      "execution_count": null,
      "outputs": []
    },
    {
      "cell_type": "code",
      "source": [
        "age = 18\n",
        "\n",
        "if age > 18:\n",
        "    print(\"أنت بالغ.\")\n",
        "else:\n",
        "    print(\"أنت قاصر.\")"
      ],
      "metadata": {
        "id": "6ZONaYnXyS9Z",
        "colab": {
          "base_uri": "https://localhost:8080/"
        },
        "outputId": "5a282d96-4059-48d5-a9ed-ab63687bf47f"
      },
      "execution_count": null,
      "outputs": [
        {
          "output_type": "stream",
          "name": "stdout",
          "text": [
            "أنت قاصر.\n"
          ]
        }
      ]
    },
    {
      "cell_type": "code",
      "source": [
        "\n",
        "number = 0\n",
        "\n",
        "if number > 0 :\n",
        "    print('Positive number')\n",
        "elif number < 0 :\n",
        "    print('Negative number')\n",
        "else:\n",
        "    print('Zero')"
      ],
      "metadata": {
        "id": "VJZQdk63yaza",
        "colab": {
          "base_uri": "https://localhost:8080/"
        },
        "outputId": "21afb31a-5f71-4426-b102-4572b4176aab"
      },
      "execution_count": null,
      "outputs": [
        {
          "output_type": "stream",
          "name": "stdout",
          "text": [
            "Zero\n"
          ]
        }
      ]
    },
    {
      "cell_type": "code",
      "source": [
        "check = True\n",
        "# True تساوي check سيتم تنفيذ أمر الطباعة الموضوع هنا إذا كانت قيمة المتغير\n",
        "if check == True:\n",
        "    print('check = True')\n",
        "# False أي إذا كانت تساوي True تساوي check سيتم تنفيذ أمر الطباعة الموضوع هنا إذا لم تكن قيمة المتغير\n",
        "else:\n",
        "    print('check = False')"
      ],
      "metadata": {
        "id": "8jqKDsiWEzF2",
        "colab": {
          "base_uri": "https://localhost:8080/"
        },
        "outputId": "a162c738-2da4-488b-fd04-b292ff3606d7"
      },
      "execution_count": null,
      "outputs": [
        {
          "output_type": "stream",
          "name": "stdout",
          "text": [
            "check = True\n"
          ]
        }
      ]
    },
    {
      "cell_type": "markdown",
      "source": [
        "#العوامل التي تستخدم في وضع شروط منطقية (Logical Operators)"
      ],
      "metadata": {
        "id": "B_ASpOi_5Kvb"
      }
    },
    {
      "cell_type": "markdown",
      "source": [
        "`if شرط_أول or شرط_ثاني:`\n",
        "\n",
        "الكود الذي سيُنفذ إذا كان أي من الشروط صحيحًا\n",
        "\n",
        "\n",
        "`if شرط_أول and شرط_ثاني:`\n",
        "\n",
        "الكود الذي سيُنفذ إذا كانت جميع الشروط صحيحة"
      ],
      "metadata": {
        "id": "dURuRs4Oys9l"
      }
    },
    {
      "cell_type": "code",
      "source": [
        "a = 10\n",
        "b = 20\n",
        "\n",
        "# تساوي 20 سيتم تنفيذ أمر الطباعة b تساوي 10, و قيمة المتغير a الشرط التالي يعني أنه إذا كانت قيمة المتغير\n",
        "if a == 10 and b == 50:\n",
        "    print('The first and the second conditions return True')"
      ],
      "metadata": {
        "id": "IyA1Wc_7zEzn"
      },
      "execution_count": null,
      "outputs": []
    },
    {
      "cell_type": "code",
      "source": [
        "x = 5\n",
        "\n",
        "print(x > 3 and x < 10)"
      ],
      "metadata": {
        "colab": {
          "base_uri": "https://localhost:8080/"
        },
        "id": "CcPQ4CDkFXD2",
        "outputId": "2193d3c3-dff5-4b42-97be-1c6c93a89590"
      },
      "execution_count": null,
      "outputs": [
        {
          "output_type": "stream",
          "name": "stdout",
          "text": [
            "True\n"
          ]
        }
      ]
    },
    {
      "cell_type": "code",
      "source": [
        "x = 5\n",
        "\n",
        "print(x > 3 or x < 4)"
      ],
      "metadata": {
        "colab": {
          "base_uri": "https://localhost:8080/"
        },
        "id": "Lyh7pNdCFdnm",
        "outputId": "83984c73-e7a9-4056-f0dd-77ecd21ca47d"
      },
      "execution_count": null,
      "outputs": [
        {
          "output_type": "stream",
          "name": "stdout",
          "text": [
            "True\n"
          ]
        }
      ]
    },
    {
      "cell_type": "code",
      "source": [
        "print(not True)"
      ],
      "metadata": {
        "colab": {
          "base_uri": "https://localhost:8080/"
        },
        "id": "MCKqPaeZF8jB",
        "outputId": "a4318f7f-2f01-4932-e3b5-1f40fb4267b9"
      },
      "execution_count": null,
      "outputs": [
        {
          "output_type": "stream",
          "name": "stdout",
          "text": [
            "False\n"
          ]
        }
      ]
    },
    {
      "cell_type": "code",
      "source": [
        "x = 5\n",
        "\n",
        "print(not(x > 3 and x < 10))"
      ],
      "metadata": {
        "colab": {
          "base_uri": "https://localhost:8080/"
        },
        "id": "eG9K4meXFoiJ",
        "outputId": "95df0ab8-5cb2-4968-f301-65c213d57020"
      },
      "execution_count": null,
      "outputs": [
        {
          "output_type": "stream",
          "name": "stdout",
          "text": [
            "False\n"
          ]
        }
      ]
    },
    {
      "cell_type": "code",
      "source": [
        "\n",
        "# Example : Using the not operator\n",
        "x = False\n",
        "y = False\n",
        "# The expression not x is True if x is False, and vice versa\n",
        "if not x:\n",
        "    print(\"x is False\")\n",
        "else:\n",
        "    print(\"x is True\")\n"
      ],
      "metadata": {
        "colab": {
          "base_uri": "https://localhost:8080/"
        },
        "id": "2sFC5HDzFsCj",
        "outputId": "9e8836da-69e6-411b-9b5d-d386ff241544"
      },
      "execution_count": null,
      "outputs": [
        {
          "output_type": "stream",
          "name": "stdout",
          "text": [
            "x is False\n"
          ]
        }
      ]
    }
  ]
}